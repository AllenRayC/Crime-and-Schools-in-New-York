{
 "cells": [
  {
   "cell_type": "code",
   "execution_count": 132,
   "metadata": {},
   "outputs": [],
   "source": [
    "# This program will combine and clean the high school performance data, as well as add location information\n",
    "# Dependencies and Setup\n",
    "import pandas as pd\n",
    "import numpy as np\n",
    "\n",
    "# Files to Load\n",
    "DOE_2013_2014_report = \"Resources/2013_-_2014_DOE_High_School_Performance-Directory.csv\"\n",
    "DOE_2014_2015_report = \"Resources/2014-2015_DOE_High_School_Performance-Directory.csv\"\n",
    "DOE_2016_report = \"Resources/2016_DOE_High_School_Performance__Directory.csv\"\n",
    "school_safety_report = \"Resources/2010_-_2016_School_Safety_Report.csv\"\n",
    "precinct_key_csv = \"Resources/Precinct_Key.xlsx\"\n",
    "\n",
    "# Read Purchasing File and store into Pandas data frame\n",
    "DOE_2013_2014 = pd.read_csv(DOE_2013_2014_report)\n",
    "DOE_2014_2015 = pd.read_csv(DOE_2014_2015_report)\n",
    "DOE_2016 = pd.read_csv(DOE_2016_report)\n",
    "school_safety = pd.read_csv(school_safety_report)\n",
    "precinct_key = pd.read_excel(precinct_key_csv)"
   ]
  },
  {
   "cell_type": "code",
   "execution_count": 133,
   "metadata": {},
   "outputs": [],
   "source": [
    "# data cleaning\n",
    "\n",
    "# select needed columns\n",
    "DOE_2013_2014 = DOE_2013_2014[[\"DBN\", \"graduation 2010-11\", \"college enroll 2010-11\", \"graduation 2011-12\", \"college enroll 2011-12\"]]\n",
    "DOE_2014_2015 = DOE_2014_2015[[\"dbn\", \"graduation_rate_2013\", \"college_career_rate_2013\"]]\n",
    "DOE_2016 = DOE_2016[[\"dbn\", \"graduation_rate_2014\", \"college_career_rate_2014\"]]\n",
    "\n",
    "# rename column headers\n",
    "DOE_2013_2014 = DOE_2013_2014.rename(index=str, columns={\"graduation 2010-11\": \"graduation_rate_2011\",\n",
    "                                                         \"college enroll 2010-11\": \"college_career_rate_2011\",\n",
    "                                                         \"graduation 2011-12\": \"graduation_rate_2012\",\n",
    "                                                         \"college enroll 2011-12\": \"college_career_rate_2012\"})\n",
    "DOE_2014_2015 = DOE_2014_2015.rename(index=str, columns={\"dbn\": \"DBN\"})\n",
    "DOE_2016 = DOE_2016.rename(index=str, columns={\"dbn\": \"DBN\"})\n",
    "\n",
    "# drop rows with missing data\n",
    "DOE_2013_2014 = DOE_2013_2014.dropna(how='any')\n",
    "DOE_2014_2015 = DOE_2014_2015.dropna(how='any')\n",
    "DOE_2016 = DOE_2016.dropna(how='any')"
   ]
  },
  {
   "cell_type": "code",
   "execution_count": 135,
   "metadata": {},
   "outputs": [],
   "source": [
    "# merge the 3 datasets\n",
    "merge0 = pd.merge(DOE_2013_2014, DOE_2014_2015, on=\"DBN\")\n",
    "merge1 = pd.merge(merge0, DOE_2016, on=\"DBN\")"
   ]
  },
  {
   "cell_type": "code",
   "execution_count": 141,
   "metadata": {},
   "outputs": [],
   "source": [
    "# bring in geographic data\n",
    "geo_safety_data = school_safety[[\"School Year\", \"DBN\", \"Community Board\", \"Council District \", \"Census Tract\", \"NTA\"]]\n",
    "geo_safety_data = geo_safety_data.loc[geo_safety_data[\"School Year\"] == \"2013-14\"]\n",
    "geo_safety_data = geo_safety_data.drop(columns=\"School Year\")\n",
    "\n",
    "merge2 = pd.merge(merge1, geo_safety_data, on=\"DBN\")\n",
    "\n",
    "# clean NTA column (remove trailing white space)\n",
    "merge2[\"NTA\"] = merge2[\"NTA\"].str.strip()\n",
    "\n",
    "# bring in precinct number\n",
    "precinct_key = precinct_key[[\"DBN\", \"Precinct\"]]\n",
    "merge3 = pd.merge(merge2, precinct_key, on=\"DBN\")"
   ]
  },
  {
   "cell_type": "code",
   "execution_count": 143,
   "metadata": {},
   "outputs": [],
   "source": [
    "# export to excel file\n",
    "merge3.to_excel(\"Resources/Combined_HS_Performance_Data.xlsx\", index=False)"
   ]
  }
 ],
 "metadata": {
  "kernelspec": {
   "display_name": "Python 3",
   "language": "python",
   "name": "python3"
  },
  "language_info": {
   "codemirror_mode": {
    "name": "ipython",
    "version": 3
   },
   "file_extension": ".py",
   "mimetype": "text/x-python",
   "name": "python",
   "nbconvert_exporter": "python",
   "pygments_lexer": "ipython3",
   "version": "3.6.6"
  }
 },
 "nbformat": 4,
 "nbformat_minor": 2
}
