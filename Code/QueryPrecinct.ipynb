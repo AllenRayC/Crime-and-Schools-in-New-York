{
 "cells": [
  {
   "cell_type": "code",
   "execution_count": 25,
   "metadata": {},
   "outputs": [],
   "source": [
    "# this program will call maps.nyc to get the precinct number for each high school\n",
    "\n",
    "# dependencies\n",
    "import requests\n",
    "import pandas as pd\n",
    "import numpy as np\n",
    "\n",
    "# files to load\n",
    "hs_directory = \"Resources/2018_DOE_High_School_Directory.csv\"\n",
    "\n",
    "# read file and store into pandas data frame\n",
    "high_schools = pd.read_csv(hs_directory)"
   ]
  },
  {
   "cell_type": "code",
   "execution_count": 26,
   "metadata": {},
   "outputs": [],
   "source": [
    "# select required columns\n",
    "high_schools = high_schools[[\"dbn\", \"primary_address_line_1\", \"Borough\"]]"
   ]
  },
  {
   "cell_type": "code",
   "execution_count": 27,
   "metadata": {},
   "outputs": [],
   "source": [
    "# clean data\n",
    "high_schools[\"primary_address_line_1\"] = high_schools[\"primary_address_line_1\"].replace('- ', '-', regex=True)\n",
    "high_schools[\"Borough\"][391] = \"QUEENS\"\n",
    "high_schools[\"Borough\"] = high_schools[\"Borough\"].replace('STATEN IS', 'STATEN ISLAND', regex=True)\n",
    "\n",
    "# replace spaces with %20 prior to creating query url\n",
    "high_schools[\"primary_address_line_1\"] = high_schools[\"primary_address_line_1\"].replace(' ', '%20', regex=True)\n",
    "\n",
    "# add column to store precinct numbers\n",
    "high_schools[\"Precinct\"] = np.nan"
   ]
  },
  {
   "cell_type": "code",
   "execution_count": 28,
   "metadata": {
    "scrolled": true
   },
   "outputs": [
    {
     "name": "stderr",
     "output_type": "stream",
     "text": [
      "C:\\Users\\Allen\\Anaconda3\\envs\\PythonData\\lib\\site-packages\\ipykernel_launcher.py:7: SettingWithCopyWarning: \n",
      "A value is trying to be set on a copy of a slice from a DataFrame\n",
      "\n",
      "See the caveats in the documentation: http://pandas.pydata.org/pandas-docs/stable/indexing.html#indexing-view-versus-copy\n",
      "  import sys\n"
     ]
    }
   ],
   "source": [
    "# call api for each hs address and store precinct number\n",
    "i = 0\n",
    "for row in high_schools[\"primary_address_line_1\"]:\n",
    "    address = high_schools[\"primary_address_line_1\"][i]\n",
    "    borough = high_schools[\"Borough\"][i].strip()\n",
    "    url = f\"https://maps.nyc.gov/geoclient/v1/search.json?app_key=E2857975AA57366BC&app_id=nyc-gov-nypd&input={address},%20{borough}\"\n",
    "    query = requests.get(url).json()\n",
    "    high_schools[\"Precinct\"][i] = query[\"results\"][0][\"response\"][\"policePrecinct\"]\n",
    "    i += 1"
   ]
  },
  {
   "cell_type": "code",
   "execution_count": 29,
   "metadata": {},
   "outputs": [],
   "source": [
    "# remove unneeded columns and create excel file\n",
    "high_schools = high_schools.drop(columns=[\"primary_address_line_1\", \"Borough\"])\n",
    "high_schools.to_excel(\"Resources/Precinct_Key.xlsx\", index=False)"
   ]
  }
 ],
 "metadata": {
  "kernelspec": {
   "display_name": "Python 3",
   "language": "python",
   "name": "python3"
  },
  "language_info": {
   "codemirror_mode": {
    "name": "ipython",
    "version": 3
   },
   "file_extension": ".py",
   "mimetype": "text/x-python",
   "name": "python",
   "nbconvert_exporter": "python",
   "pygments_lexer": "ipython3",
   "version": "3.6.6"
  }
 },
 "nbformat": 4,
 "nbformat_minor": 2
}
