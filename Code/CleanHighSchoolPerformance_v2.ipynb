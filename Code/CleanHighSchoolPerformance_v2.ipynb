{
 "cells": [
  {
   "cell_type": "code",
   "execution_count": 64,
   "metadata": {},
   "outputs": [],
   "source": [
    "# This program will combine and clean the high school performance data, as well as add location information\n",
    "\n",
    "# dependencies and setup\n",
    "import requests\n",
    "import pandas as pd\n",
    "import numpy as np\n",
    "\n",
    "# files to load\n",
    "DOE_2013_2014_report = \"Resources/2013_-_2014_DOE_High_School_Performance-Directory.csv\" # https://data.cityofnewyork.us/Education/2013-2014-DOE-High-School-Performance-Directory/42et-jh9v\n",
    "DOE_2014_2015_report = \"Resources/2014-2015_DOE_High_School_Performance-Directory.csv\" # https://data.cityofnewyork.us/Education/2014-2015-DOE-High-School-Performance-Directory/xahu-rkwn\n",
    "DOE_2016_report = \"Resources/2016_DOE_High_School_Performance__Directory.csv\" # https://data.cityofnewyork.us/Education/2016-DOE-High-School-Performance-Directory/qvir-knu3\n",
    "school_safety_report = \"Resources/2010_-_2016_School_Safety_Report.csv\" # https://data.cityofnewyork.us/Education/2010-2016-School-Safety-Report/qybk-bjjc\n",
    "precinct_key = \"Resources/Precinct_Key.xlsx\"\n",
    "\n",
    "# read files and store into pandas data frames\n",
    "DOE_2013_2014 = pd.read_csv(DOE_2013_2014_report)\n",
    "DOE_2014_2015 = pd.read_csv(DOE_2014_2015_report)\n",
    "DOE_2016 = pd.read_csv(DOE_2016_report)\n",
    "school_safety = pd.read_csv(school_safety_report)\n",
    "precincts = pd.read_excel(precinct_key)"
   ]
  },
  {
   "cell_type": "code",
   "execution_count": 65,
   "metadata": {},
   "outputs": [],
   "source": [
    "# data cleaning\n",
    "\n",
    "# select needed columns\n",
    "DOE_2013_2014 = DOE_2013_2014[[\"DBN\", \"graduation 2010-11\", \"college enroll 2010-11\", \"graduation 2011-12\", \"college enroll 2011-12\"]]\n",
    "DOE_2014_2015 = DOE_2014_2015[[\"dbn\", \"graduation_rate_2013\", \"college_career_rate_2013\"]]\n",
    "DOE_2016 = DOE_2016[[\"dbn\", \"graduation_rate_2014\", \"college_career_rate_2014\"]]\n",
    "\n",
    "# rename column headers\n",
    "DOE_2013_2014 = DOE_2013_2014.rename(index=str, columns={\"graduation 2010-11\": \"graduation_rate_2011\",\n",
    "                                                         \"college enroll 2010-11\": \"college_career_rate_2011\",\n",
    "                                                         \"graduation 2011-12\": \"graduation_rate_2012\",\n",
    "                                                         \"college enroll 2011-12\": \"college_career_rate_2012\"})\n",
    "DOE_2014_2015 = DOE_2014_2015.rename(index=str, columns={\"dbn\": \"DBN\"})\n",
    "DOE_2016 = DOE_2016.rename(index=str, columns={\"dbn\": \"DBN\"})\n",
    "precincts = precincts.rename(index=str, columns={\"dbn\": \"DBN\"})"
   ]
  },
  {
   "cell_type": "code",
   "execution_count": 66,
   "metadata": {},
   "outputs": [],
   "source": [
    "# merge the 3 datasets\n",
    "merge0 = pd.merge(DOE_2013_2014, DOE_2014_2015, on=\"DBN\")\n",
    "merge1 = pd.merge(merge0, DOE_2016, on=\"DBN\")"
   ]
  },
  {
   "cell_type": "code",
   "execution_count": 67,
   "metadata": {},
   "outputs": [],
   "source": [
    "# convert percent data to float\n",
    "merge1[\"graduation_rate_2011\"] = merge1[\"graduation_rate_2011\"].str.rstrip('%').astype('float') / 100\n",
    "merge1[\"college_career_rate_2011\"] = merge1[\"college_career_rate_2011\"].str.rstrip('%').astype('float') / 100\n",
    "merge1[\"graduation_rate_2012\"] = merge1[\"graduation_rate_2012\"].str.rstrip('%').astype('float') / 100\n",
    "merge1[\"college_career_rate_2012\"] = merge1[\"college_career_rate_2012\"].str.rstrip('%').astype('float') / 100\n",
    "merge1[\"graduation_rate_2013\"] = merge1[\"graduation_rate_2013\"].str.rstrip('%').astype('float') / 100\n",
    "merge1[\"college_career_rate_2013\"] = merge1[\"college_career_rate_2013\"].str.rstrip('%').astype('float') / 100\n",
    "merge1[\"graduation_rate_2014\"] = merge1[\"graduation_rate_2014\"].str.rstrip('%').astype('float') / 100\n",
    "merge1[\"college_career_rate_2014\"] = merge1[\"college_career_rate_2014\"].str.rstrip('%').astype('float') / 100"
   ]
  },
  {
   "cell_type": "code",
   "execution_count": 68,
   "metadata": {},
   "outputs": [],
   "source": [
    "# bring in geographic data\n",
    "geo_safety_data = school_safety[[\"School Year\", \"DBN\", \"Community Board\", \"Council District \", \"Census Tract\", \"NTA\"]]\n",
    "geo_safety_data = geo_safety_data.loc[geo_safety_data[\"School Year\"] == \"2013-14\"]\n",
    "geo_safety_data = geo_safety_data.drop(columns=\"School Year\")\n",
    "\n",
    "merge2 = pd.merge(merge1, geo_safety_data, on=\"DBN\")\n",
    "\n",
    "# clean NTA column (remove trailing white space)\n",
    "merge2[\"NTA\"] = merge2[\"NTA\"].str.strip()\n",
    "\n",
    "# bring in precinct number\n",
    "merge3 = pd.merge(merge2, precincts, on=\"DBN\")"
   ]
  },
  {
   "cell_type": "code",
   "execution_count": 69,
   "metadata": {},
   "outputs": [],
   "source": [
    "# export to csv file\n",
    "merge3.to_csv(\"Resources/Combined_HS_Performance_Data_v2.csv\", index=False)"
   ]
  },
  {
   "cell_type": "code",
   "execution_count": null,
   "metadata": {},
   "outputs": [],
   "source": []
  }
 ],
 "metadata": {
  "kernelspec": {
   "display_name": "Python 3",
   "language": "python",
   "name": "python3"
  },
  "language_info": {
   "codemirror_mode": {
    "name": "ipython",
    "version": 3
   },
   "file_extension": ".py",
   "mimetype": "text/x-python",
   "name": "python",
   "nbconvert_exporter": "python",
   "pygments_lexer": "ipython3",
   "version": "3.6.6"
  }
 },
 "nbformat": 4,
 "nbformat_minor": 2
}
